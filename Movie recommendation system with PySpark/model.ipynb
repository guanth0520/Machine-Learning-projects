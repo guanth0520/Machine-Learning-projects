{
 "cells": [
  {
   "cell_type": "code",
   "execution_count": null,
   "metadata": {
    "id": "BG5h-VIw4JZr"
   },
   "outputs": [],
   "source": [
    "from pyspark.sql import SparkSession\n",
    "from pyspark.sql.types import StructType, StructField, IntegerType, FloatType\n",
    "from pyspark.ml.recommendation import ALS\n",
    "from pyspark.ml.evaluation import RegressionEvaluator\n"
   ]
  },
  {
   "cell_type": "code",
   "execution_count": null,
   "metadata": {
    "colab": {
     "base_uri": "https://localhost:8080/"
    },
    "id": "VycqyTAcgCuK",
    "outputId": "d091c3fd-efbc-4a89-ecd0-a510c19e5d44"
   },
   "outputs": [
    {
     "name": "stdout",
     "output_type": "stream",
     "text": [
      "Looking in indexes: https://pypi.org/simple, https://us-python.pkg.dev/colab-wheels/public/simple/\n",
      "Collecting pyspark\n",
      "  Downloading pyspark-3.4.0.tar.gz (310.8 MB)\n",
      "\u001b[2K     \u001b[90m━━━━━━━━━━━━━━━━━━━━━━━━━━━━━━━━━━━━━━━\u001b[0m \u001b[32m310.8/310.8 MB\u001b[0m \u001b[31m4.0 MB/s\u001b[0m eta \u001b[36m0:00:00\u001b[0m\n",
      "\u001b[?25h  Preparing metadata (setup.py) ... \u001b[?25l\u001b[?25hdone\n",
      "Requirement already satisfied: py4j==0.10.9.7 in /usr/local/lib/python3.10/dist-packages (from pyspark) (0.10.9.7)\n",
      "Building wheels for collected packages: pyspark\n",
      "  Building wheel for pyspark (setup.py) ... \u001b[?25l\u001b[?25hdone\n",
      "  Created wheel for pyspark: filename=pyspark-3.4.0-py2.py3-none-any.whl size=311317145 sha256=c5ea8edb507b71e0119ff6259404559b121f5990b9c12dd2fb0f448694f7a4fa\n",
      "  Stored in directory: /root/.cache/pip/wheels/7b/1b/4b/3363a1d04368e7ff0d408e57ff57966fcdf00583774e761327\n",
      "Successfully built pyspark\n",
      "Installing collected packages: pyspark\n",
      "Successfully installed pyspark-3.4.0\n"
     ]
    }
   ],
   "source": [
    "pip install pyspark"
   ]
  },
  {
   "cell_type": "code",
   "execution_count": null,
   "metadata": {
    "id": "snTSTdEi4J_O"
   },
   "outputs": [],
   "source": [
    "spark = SparkSession.builder.appName(\"Movie Recommendations\").getOrCreate()"
   ]
  },
  {
   "cell_type": "code",
   "execution_count": null,
   "metadata": {
    "colab": {
     "base_uri": "https://localhost:8080/"
    },
    "id": "DSRi0xxd4yPb",
    "outputId": "091111a1-23df-434a-eda7-642506fbd714"
   },
   "outputs": [
    {
     "name": "stdout",
     "output_type": "stream",
     "text": [
      "Mounted at /content/drive\n"
     ]
    }
   ],
   "source": [
    "from google.colab import drive\n",
    "drive.mount('/content/drive')"
   ]
  },
  {
   "cell_type": "code",
   "execution_count": null,
   "metadata": {
    "id": "un0AZSmG4KC9"
   },
   "outputs": [],
   "source": [
    "data_schema = StructType([\n",
    "    StructField(\"userId\", IntegerType(), True),\n",
    "    StructField(\"movieId\", IntegerType(), True),\n",
    "    StructField(\"rating\", FloatType(), True),\n",
    "    StructField(\"timestamp\", IntegerType(), True)\n",
    "])\n",
    "\n",
    "ratings_spark = spark.read.csv('/content/drive/MyDrive/project2/ratings_small.csv', header=True, schema=data_schema).cache()\n",
    "ratings_df = (ratings_spark.select(\n",
    "    'userId',\n",
    "    'movieId',\n",
    "    'rating'\n",
    ")).cache()"
   ]
  },
  {
   "cell_type": "code",
   "execution_count": null,
   "metadata": {
    "id": "5Jd83QWwno5f"
   },
   "outputs": [],
   "source": [
    "# Split the data into training and test datasets\n",
    "(training, test) = ratings_df.randomSplit([0.8, 0.2], seed=42)"
   ]
  },
  {
   "cell_type": "markdown",
   "metadata": {
    "id": "BFSFJDiXoZ1I"
   },
   "source": [
    "Collaborative Filtering"
   ]
  },
  {
   "cell_type": "code",
   "execution_count": null,
   "metadata": {
    "colab": {
     "base_uri": "https://localhost:8080/"
    },
    "id": "FKB_MArG4KFX",
    "outputId": "2204a307-b58d-4b5b-e93c-3e838fd58478"
   },
   "outputs": [
    {
     "name": "stdout",
     "output_type": "stream",
     "text": [
      "MAE (Test) = 0.7144480259975858\n"
     ]
    }
   ],
   "source": [
    "# Your existing ALS model training and evaluation code\n",
    "svd = ALS(\n",
    "          rank=30,\n",
    "          maxIter=4, \n",
    "          regParam=0.1,\n",
    "          userCol='userId', \n",
    "          itemCol='movieId', \n",
    "          ratingCol='rating',\n",
    "          coldStartStrategy='drop',\n",
    "          implicitPrefs=False\n",
    "         )\n",
    "svd_model = svd.fit(training)\n",
    "\n",
    "svd_predictions = svd_model.transform(test)\n",
    "svd_evaluator = RegressionEvaluator(metricName='mae', labelCol='rating',\n",
    "                                predictionCol='prediction')\n",
    "\n",
    "svd_mae = svd_evaluator.evaluate(svd_predictions)\n",
    "print(f'MAE (Test) = {svd_mae}')"
   ]
  },
  {
   "cell_type": "code",
   "execution_count": null,
   "metadata": {
    "colab": {
     "base_uri": "https://localhost:8080/"
    },
    "id": "oav7tY0pq7OK",
    "outputId": "c4bb726a-ca36-47fa-ac84-0a164a9276b7"
   },
   "outputs": [
    {
     "name": "stdout",
     "output_type": "stream",
     "text": [
      "+------+--------------------+\n",
      "|userId|     recommendations|\n",
      "+------+--------------------+\n",
      "|     1|  [{1172, 3.490329}]|\n",
      "|     2| [{1192, 5.0077834}]|\n",
      "|     3| [{83411, 4.675861}]|\n",
      "|     4|  [{1192, 5.794789}]|\n",
      "|     5|[{89904, 4.8696694}]|\n",
      "+------+--------------------+\n",
      "only showing top 5 rows\n",
      "\n"
     ]
    }
   ],
   "source": [
    "svd_model.recommendForAllUsers(1).show(5)"
   ]
  },
  {
   "cell_type": "code",
   "execution_count": null,
   "metadata": {
    "colab": {
     "base_uri": "https://localhost:8080/"
    },
    "id": "LdbOEz7RmU9z",
    "outputId": "4d498bd2-ff2f-439a-f048-3752f7d511ae"
   },
   "outputs": [
    {
     "name": "stdout",
     "output_type": "stream",
     "text": [
      "+-------+----------------+\n",
      "|movieId|           title|\n",
      "+-------+----------------+\n",
      "|   1172| Cinema Paradiso|\n",
      "|   1192|Paris is Burning|\n",
      "|  83411|            Cops|\n",
      "|  89904|      The Artist|\n",
      "+-------+----------------+\n",
      "\n"
     ]
    }
   ],
   "source": [
    "# show the recommendation films' titles \n",
    "movie_ids_to_find = [1172, 1192, 83411, 89904]\n",
    "filtered_movies = movies_spark.filter(col(\"movieId\").isin(movie_ids_to_find))\n",
    "movie_titles = filtered_movies.select(\"movieId\", \"title\")\n",
    "movie_titles.show()"
   ]
  },
  {
   "cell_type": "code",
   "execution_count": null,
   "metadata": {
    "id": "87k9tt9SHsa3"
   },
   "outputs": [],
   "source": [
    "# Import necessary modules\n",
    "import pyspark.sql.functions as sql_func\n",
    "from pyspark.sql.types import *\n",
    "from pyspark.ml.recommendation import ALS, ALSModel\n",
    "from pyspark.context import SparkContext\n",
    "from pyspark.sql.session import SparkSession\n",
    "from pyspark.mllib.evaluation import RegressionMetrics, RankingMetrics\n",
    "from pyspark.ml.evaluation import RegressionEvaluator\n",
    "from pyspark.ml.feature import VectorAssembler\n",
    "from pyspark.ml.feature import HashingTF, IDF\n",
    "from pyspark.ml.feature import Word2Vec\n",
    "from pyspark.ml.feature import StringIndexer, OneHotEncoder\n",
    "from pyspark.ml.clustering import KMeans\n",
    "from pyspark.ml import Pipeline\n",
    "from pyspark.sql.functions import col\n",
    "from pyspark.ml.feature import StringIndexer, IndexToString"
   ]
  },
  {
   "cell_type": "markdown",
   "metadata": {
    "id": "3dwny-SypzcM"
   },
   "source": [
    "Hybrid Filtering"
   ]
  },
  {
   "cell_type": "code",
   "execution_count": null,
   "metadata": {
    "id": "DfwnoRPTkRpL"
   },
   "outputs": [],
   "source": [
    "movies_df = spark.read.csv('/content/drive/MyDrive/project2/metadata_analysis.csv', header=True).cache()"
   ]
  },
  {
   "cell_type": "code",
   "execution_count": null,
   "metadata": {
    "colab": {
     "base_uri": "https://localhost:8080/"
    },
    "id": "a-Uhs3jVj_hl",
    "outputId": "55435506-9c7d-4ee9-bbde-468465bb1a03"
   },
   "outputs": [
    {
     "data": {
      "text/plain": [
       "['_c0',\n",
       " 'budget',\n",
       " 'genres',\n",
       " 'id',\n",
       " 'imdb_id',\n",
       " 'original_language',\n",
       " 'original_title',\n",
       " 'overview',\n",
       " 'popularity',\n",
       " 'production_companies',\n",
       " 'production_countries',\n",
       " 'release_date',\n",
       " 'revenue',\n",
       " 'runtime',\n",
       " 'spoken_languages',\n",
       " 'status',\n",
       " 'title',\n",
       " 'vote_average',\n",
       " 'vote_count',\n",
       " 'movieId']"
      ]
     },
     "execution_count": 56,
     "metadata": {},
     "output_type": "execute_result"
    }
   ],
   "source": [
    "movies_df.columns"
   ]
  },
  {
   "cell_type": "code",
   "execution_count": null,
   "metadata": {
    "id": "xuKmeyeVlXmP"
   },
   "outputs": [],
   "source": [
    "# Select the relevant features\n",
    "selected_cols = ['movieId', 'genres', 'title']\n",
    "movies_df = movies_df.select(*selected_cols)"
   ]
  },
  {
   "cell_type": "code",
   "execution_count": null,
   "metadata": {
    "id": "4CNckgTLl4Xj"
   },
   "outputs": [],
   "source": [
    "movies_df=movies_df.withColumn(\"movieId\", col(\"movieId\").cast(\"integer\"))"
   ]
  },
  {
   "cell_type": "code",
   "execution_count": null,
   "metadata": {
    "colab": {
     "base_uri": "https://localhost:8080/"
    },
    "id": "NV9ymHjiTF9b",
    "outputId": "36a060d7-2c77-4e8e-ae58-6c1cf9ff0b6a"
   },
   "outputs": [
    {
     "name": "stdout",
     "output_type": "stream",
     "text": [
      "+-------+--------------------+--------------------+\n",
      "|movieId|              genres|               title|\n",
      "+-------+--------------------+--------------------+\n",
      "|      1|[{'id': 16, 'name...|           Toy Story|\n",
      "|      2|[{'id': 12, 'name...|             Jumanji|\n",
      "|      3|[{'id': 10749, 'n...|    Grumpier Old Men|\n",
      "|   null|[{'id': 35, 'name...|               127.0|\n",
      "|      5|[{'id': 35, 'name...|Father of the Bri...|\n",
      "+-------+--------------------+--------------------+\n",
      "only showing top 5 rows\n",
      "\n"
     ]
    }
   ],
   "source": [
    "movies_df.show(5)"
   ]
  },
  {
   "cell_type": "code",
   "execution_count": null,
   "metadata": {
    "colab": {
     "base_uri": "https://localhost:8080/"
    },
    "id": "itObpD92Vf5C",
    "outputId": "5f6f7c66-128e-4e49-834c-ecb3f200809b"
   },
   "outputs": [
    {
     "name": "stdout",
     "output_type": "stream",
     "text": [
      "root\n",
      " |-- movieId: integer (nullable = true)\n",
      " |-- genres: string (nullable = true)\n",
      "\n"
     ]
    }
   ],
   "source": [
    "movies_df.printSchema()"
   ]
  },
  {
   "cell_type": "code",
   "execution_count": null,
   "metadata": {
    "colab": {
     "base_uri": "https://localhost:8080/"
    },
    "id": "sndTIC68UlyD",
    "outputId": "8dfa2a14-bdc0-4657-9599-4c4d978151f9"
   },
   "outputs": [
    {
     "name": "stdout",
     "output_type": "stream",
     "text": [
      "+-------+--------------------+--------------------+\n",
      "|movieId|              genres|               title|\n",
      "+-------+--------------------+--------------------+\n",
      "|      1|Animation|Comedy|...|           Toy Story|\n",
      "|      2|Adventure|Fantasy...|             Jumanji|\n",
      "|      3|      Romance|Comedy|    Grumpier Old Men|\n",
      "|   null|Comedy|Drama|Romance|               127.0|\n",
      "|      5|              Comedy|Father of the Bri...|\n",
      "+-------+--------------------+--------------------+\n",
      "only showing top 5 rows\n",
      "\n"
     ]
    }
   ],
   "source": [
    "from pyspark.sql.functions import udf, concat_ws, col\n",
    "from pyspark.sql.types import StringType\n",
    "\n",
    "# Define a UDF to extract genre names and join them into a single string\n",
    "def extract_genre_names(genres_str):\n",
    "    try:\n",
    "        genre_list = eval(genres_str)\n",
    "        genre_names = [genre['name'] for genre in genre_list]\n",
    "        return '|'.join(genre_names)\n",
    "    except:\n",
    "        return ''\n",
    "\n",
    "extract_genre_names_udf = udf(extract_genre_names, StringType())\n",
    "\n",
    "# Process the 'genres' column in the movies_df DataFrame\n",
    "movies_df = movies_df.withColumn('genres', extract_genre_names_udf(col('genres')))\n",
    "\n",
    "# Show the first 5 rows of the modified movies_df DataFrame\n",
    "movies_df.show(5)"
   ]
  },
  {
   "cell_type": "code",
   "execution_count": null,
   "metadata": {
    "id": "ymEhWIWGscXJ"
   },
   "outputs": [],
   "source": [
    "from pyspark.sql.functions import split, col\n",
    "movies_spark = movies_df.withColumn(\"genres\", split(col(\"genres\"), \"\\\\|\"))"
   ]
  },
  {
   "cell_type": "code",
   "execution_count": null,
   "metadata": {
    "colab": {
     "base_uri": "https://localhost:8080/"
    },
    "id": "pkDFCohOsgme",
    "outputId": "3ed7e635-571f-407f-d2e3-374bfc496e0b"
   },
   "outputs": [
    {
     "name": "stdout",
     "output_type": "stream",
     "text": [
      "+-------+--------------------+--------------------+\n",
      "|movieId|              genres|               title|\n",
      "+-------+--------------------+--------------------+\n",
      "|      1|[Animation, Comed...|           Toy Story|\n",
      "|      2|[Adventure, Fanta...|             Jumanji|\n",
      "|      3|   [Romance, Comedy]|    Grumpier Old Men|\n",
      "|      5|            [Comedy]|Father of the Bri...|\n",
      "|      6|[Action, Crime, D...|                Heat|\n",
      "+-------+--------------------+--------------------+\n",
      "only showing top 5 rows\n",
      "\n"
     ]
    }
   ],
   "source": [
    "movies_spark = movies_spark.na.drop()\n",
    "movies_spark.show(5)"
   ]
  },
  {
   "cell_type": "code",
   "execution_count": null,
   "metadata": {
    "colab": {
     "base_uri": "https://localhost:8080/"
    },
    "id": "kWwS19z-x5BZ",
    "outputId": "db242ca4-eedc-4a4e-e40f-163b74abfb43"
   },
   "outputs": [
    {
     "data": {
      "text/plain": [
       "1089"
      ]
     },
     "execution_count": 66,
     "metadata": {},
     "output_type": "execute_result"
    }
   ],
   "source": [
    "# Filter rows with title \"Released\"\n",
    "released_movies = movies_spark.filter(movies_spark[\"title\"] == \"Released\")\n",
    "\n",
    "# Count the number of rows with title \"Released\"\n",
    "released_movies.count()"
   ]
  },
  {
   "cell_type": "code",
   "execution_count": null,
   "metadata": {
    "id": "IOq4QU41yHIg"
   },
   "outputs": [],
   "source": [
    "# Drop rows with title \"Released\"\n",
    "movies_spark = movies_spark.filter(movies_spark[\"title\"] != \"Released\")"
   ]
  },
  {
   "cell_type": "code",
   "execution_count": null,
   "metadata": {
    "id": "9S6m9EVosgox"
   },
   "outputs": [],
   "source": [
    "from pyspark.ml.feature import CountVectorizer, IDF, StringIndexer\n",
    "from pyspark.ml import Pipeline\n",
    "from pyspark.ml.recommendation import ALS\n",
    "from pyspark.ml.evaluation import RegressionEvaluator\n",
    "from pyspark.sql import SparkSession\n",
    "from pyspark.sql.types import StructType, StructField, IntegerType, FloatType\n",
    "from pyspark.sql.functions import col, split\n",
    "\n",
    "# Content-based model\n",
    "cv = CountVectorizer(inputCol=\"genres\", outputCol=\"tf\")\n",
    "idf = IDF(inputCol=\"tf\", outputCol=\"features\")\n",
    "pipeline = Pipeline(stages=[cv, idf])\n",
    "pipeline_model = pipeline.fit(movies_spark)\n",
    "movies_features = pipeline_model.transform(movies_spark)"
   ]
  },
  {
   "cell_type": "code",
   "execution_count": null,
   "metadata": {
    "id": "Km6RO3a7sgrJ"
   },
   "outputs": [],
   "source": [
    "# Collaborative filtering model\n",
    "als = ALS(rank=30, maxIter=4, regParam=0.1, userCol='userId', itemCol='movieId', ratingCol='rating', coldStartStrategy='drop', implicitPrefs=False)\n",
    "als_model = als.fit(training)"
   ]
  },
  {
   "cell_type": "code",
   "execution_count": null,
   "metadata": {
    "id": "5N6S0L4SsgtR"
   },
   "outputs": [],
   "source": [
    "from pyspark.ml.linalg import Vectors, VectorUDT\n",
    "from pyspark.sql.functions import udf\n",
    "\n",
    "from pyspark.sql.types import DoubleType\n",
    "\n",
    "@udf(DoubleType())\n",
    "def dot_product(v1, v2):\n",
    "    try:\n",
    "        return float(v1.dot(v2))\n",
    "    except TypeError:\n",
    "        return None\n",
    "\n",
    "def recommend_hybrid(userId, n_recommendations=10):\n",
    "    # Collaborative filtering recommendations\n",
    "    user_ratings = ratings_df.filter(ratings_df['userId'] == userId)\n",
    "    user_unrated_movies = movies_features.alias(\"movies\").join(user_ratings.alias(\"ratings\"), col(\"movies.movieId\") == col(\"ratings.movieId\"), how=\"left_anti\")\n",
    "    user_unrated_movies = user_unrated_movies.select(\"movies.movieId\", \"movies.features\").withColumn(\"userId\", lit(userId))\n",
    "    cf_predictions = als_model.transform(user_unrated_movies).select(\"movieId\", \"prediction\")\n",
    "\n",
    "    # Content-based recommendations\n",
    "    user_profile = pipeline_model.transform(user_ratings.join(movies_spark, on=\"movieId\"))\n",
    "    user_profile = user_profile.withColumn(\"product\", dot_product(col(\"features\"), col(\"rating\")))\n",
    "    user_profile = user_profile.groupBy(\"userId\").agg(expr(\"sum(product)\").alias(\"features_sum\"), expr(\"sum(rating)\").alias(\"rating_sum\"))\n",
    "    user_profile = user_profile.withColumn(\"features\", col(\"features_sum\") / col(\"rating_sum\"))\n",
    "\n",
    "    content_based_recommendations = pipeline_model.transform(movies_spark).withColumn(\"userId\", lit(userId)).alias(\"movies_features\")\n",
    "    content_based_recommendations = content_based_recommendations.join(user_profile.alias(\"user_profile\"), on=\"userId\", how=\"inner\")\n",
    "    content_based_recommendations = content_based_recommendations.withColumn(\"content_based_score\", dot_product(col(\"movies_features.features\"), col(\"user_profile.features\"))).select(\"movieId\", \"content_based_score\")\n",
    "\n",
    "    # Combine both recommendations\n",
    "    hybrid_recommendations = cf_predictions.join(content_based_recommendations, on=\"movieId\")\n",
    "    hybrid_recommendations = hybrid_recommendations.withColumn(\"hybrid_score\", col(\"prediction\") * 0.5 + col(\"content_based_score\") * 0.5)\n",
    "    hybrid_recommendations = hybrid_recommendations.orderBy(\"hybrid_score\", ascending=False).limit(n_recommendations)\n",
    "\n",
    "    return hybrid_recommendations.select(\"movieId\")\n",
    "\n"
   ]
  },
  {
   "cell_type": "code",
   "execution_count": null,
   "metadata": {
    "colab": {
     "base_uri": "https://localhost:8080/"
    },
    "id": "M4RiYFa5scZk",
    "outputId": "9209f2d3-772d-4549-835c-7b2f3ac8de4b"
   },
   "outputs": [
    {
     "name": "stdout",
     "output_type": "stream",
     "text": [
      "+-------+--------------------+\n",
      "|movieId|               title|\n",
      "+-------+--------------------+\n",
      "|    148|An Awfully Big Ad...|\n",
      "|    463|       Guilty as Sin|\n",
      "|    471| The Hudsucker Proxy|\n",
      "|    496|What Happened Was...|\n",
      "|    833|    High School High|\n",
      "|   1088|       Dirty Dancing|\n",
      "|   1238|          Local Hero|\n",
      "|   1342|            Candyman|\n",
      "|   1580|        Men in Black|\n",
      "|   1591|               Spawn|\n",
      "+-------+--------------------+\n",
      "\n"
     ]
    }
   ],
   "source": [
    "from pyspark.sql.functions import expr, lit\n",
    "# Test the hybrid model with a user\n",
    "user_id = 1\n",
    "n_recommendations = 10\n",
    "recommended_movies = recommend_hybrid(user_id, n_recommendations)\n",
    "\n",
    "# To display movie titles along with the recommendations, join the recommended_movies DataFrame with the movies_spark DataFrame\n",
    "recommended_movies_with_titles = recommended_movies.join(movies_spark, on=\"movieId\").select(\"movieId\", \"title\")\n",
    "\n",
    "# Print the recommended movie titles and hybrid scores\n",
    "recommended_movies_with_titles.show()"
   ]
  },
  {
   "cell_type": "markdown",
   "metadata": {
    "id": "VHKKW_huo38p"
   },
   "source": []
  }
 ],
 "metadata": {
  "colab": {
   "provenance": []
  },
  "kernelspec": {
   "display_name": "Python 3 (ipykernel)",
   "language": "python",
   "name": "python3"
  },
  "language_info": {
   "codemirror_mode": {
    "name": "ipython",
    "version": 3
   },
   "file_extension": ".py",
   "mimetype": "text/x-python",
   "name": "python",
   "nbconvert_exporter": "python",
   "pygments_lexer": "ipython3",
   "version": "3.9.13"
  }
 },
 "nbformat": 4,
 "nbformat_minor": 1
}
